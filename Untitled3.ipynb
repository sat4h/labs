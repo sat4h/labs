{
  "nbformat": 4,
  "nbformat_minor": 0,
  "metadata": {
    "colab": {
      "provenance": [],
      "gpuType": "T4"
    },
    "kernelspec": {
      "name": "python3",
      "display_name": "Python 3"
    },
    "language_info": {
      "name": "python"
    },
    "accelerator": "GPU"
  },
  "cells": [
    {
      "cell_type": "code",
      "execution_count": 2,
      "metadata": {
        "colab": {
          "base_uri": "https://localhost:8080/"
        },
        "id": "_AtPm8zlIgqd",
        "outputId": "9cb57ba0-abd1-43d5-dc51-99e2403f5989"
      },
      "outputs": [
        {
          "output_type": "stream",
          "name": "stdout",
          "text": [
            "Collecting git+https://github.com/andreinechaev/nvcc4jupyter.git\n",
            "  Cloning https://github.com/andreinechaev/nvcc4jupyter.git to /tmp/pip-req-build-4knn1qwb\n",
            "  Running command git clone --filter=blob:none --quiet https://github.com/andreinechaev/nvcc4jupyter.git /tmp/pip-req-build-4knn1qwb\n",
            "  Resolved https://github.com/andreinechaev/nvcc4jupyter.git to commit 0a71d56e5dce3ff1f0dd2c47c29367629262f527\n",
            "  Preparing metadata (setup.py) ... \u001b[?25l\u001b[?25hdone\n",
            "Building wheels for collected packages: NVCCPlugin\n",
            "  Building wheel for NVCCPlugin (setup.py) ... \u001b[?25l\u001b[?25hdone\n",
            "  Created wheel for NVCCPlugin: filename=NVCCPlugin-0.0.2-py3-none-any.whl size=4295 sha256=61cadb7bb41b5ce480254d5b1c468629916145b987557bbdfa234d46338a831d\n",
            "  Stored in directory: /tmp/pip-ephem-wheel-cache-d3vt9iqi/wheels/a8/b9/18/23f8ef71ceb0f63297dd1903aedd067e6243a68ea756d6feea\n",
            "Successfully built NVCCPlugin\n",
            "Installing collected packages: NVCCPlugin\n",
            "Successfully installed NVCCPlugin-0.0.2\n"
          ]
        }
      ],
      "source": [
        "!pip install git+https://github.com/andreinechaev/nvcc4jupyter.git"
      ]
    },
    {
      "cell_type": "code",
      "source": [
        "%load_ext nvcc_plugin"
      ],
      "metadata": {
        "colab": {
          "base_uri": "https://localhost:8080/"
        },
        "id": "ybHIc1MjKbrY",
        "outputId": "4c632a95-a93a-4978-fd23-f12d66c199c9"
      },
      "execution_count": 3,
      "outputs": [
        {
          "output_type": "stream",
          "name": "stdout",
          "text": [
            "created output directory at /content/src\n",
            "Out bin /content/result.out\n"
          ]
        }
      ]
    },
    {
      "cell_type": "code",
      "source": [
        "%%cu\n",
        "\n",
        "#include <cuda.h>\n",
        "#include <iostream>\n",
        "#include <cstdlib>\n",
        "#include <ctime>\n",
        "\n",
        "__global__ void matrix_multiply(const int *matrix_a, const int *matrix_b, int *result, int N) {\n",
        "    int row = blockIdx.y * blockDim.y + threadIdx.y;\n",
        "    int col = blockIdx.x * blockDim.x + threadIdx.x;\n",
        "\n",
        "    if (row < N && col < N) {\n",
        "        int dot_product = 0;\n",
        "        for (int i = 0; i < N; i++) {\n",
        "            dot_product += matrix_a[row * N + i] * matrix_b[i * N + col];\n",
        "        }\n",
        "        result[row * N + col] = dot_product;\n",
        "    }\n",
        "}\n",
        "\n",
        "bool verify_result(const int *matrix_a, const int *matrix_b, const int *result, int N) {\n",
        "    for (int i = 0; i < N; i++) {\n",
        "        for (int j = 0; j < N; j++) {\n",
        "            int temp = 0;\n",
        "            for (int k = 0; k < N; k++) {\n",
        "                temp += matrix_a[i * N + k] * matrix_b[k * N + j];\n",
        "            }\n",
        "            if (result[i * N + j] != temp) {\n",
        "                return false;\n",
        "            }\n",
        "        }\n",
        "    }\n",
        "    return true;\n",
        "}\n",
        "\n",
        "void multiplyMatrixCPU(const int *matrix_a, const int *matrix_b, int *result, int N) {\n",
        "    for (int i = 0; i < N; i++) {\n",
        "        for (int j = 0; j < N; j++) {\n",
        "            result[i * N + j] = 0;\n",
        "            for (int k = 0; k < N; k++) {\n",
        "                result[i * N + j] += matrix_a[i * N + k] * matrix_b[k * N + j];\n",
        "            }\n",
        "        }\n",
        "    }\n",
        "}\n",
        "\n",
        "int main() {\n",
        "    const int N = 5;\n",
        "    const int block_size = 16;\n",
        "    const int grid_size = (N + block_size - 1) / block_size;\n",
        "\n",
        "    int *matrix_a, *matrix_b, *result;\n",
        "    int *d_matrix_a, *d_matrix_b, *d_result;\n",
        "\n",
        "    // Выделение памяти на хосте (CPU)\n",
        "    matrix_a = new int[N * N];\n",
        "    matrix_b = new int[N * N];\n",
        "    result = new int[N * N];\n",
        "\n",
        "    // Инициализация матриц случайными значениями\n",
        "    srand(time(nullptr));\n",
        "    for (int i = 0; i < N * N; i++) {\n",
        "        matrix_a[i] = rand() % 10;\n",
        "        matrix_b[i] = rand() % 10;\n",
        "    }\n",
        "\n",
        "    // Выделение памяти на устройстве (GPU)\n",
        "    cudaMalloc((void**)&d_matrix_a, N * N * sizeof(int));\n",
        "    cudaMalloc((void**)&d_matrix_b, N * N * sizeof(int));\n",
        "    cudaMalloc((void**)&d_result, N * N * sizeof(int));\n",
        "\n",
        "    // Копирование данных с хоста на устройство\n",
        "    cudaMemcpy(d_matrix_a, matrix_a, N * N * sizeof(int), cudaMemcpyHostToDevice);\n",
        "    cudaMemcpy(d_matrix_b, matrix_b, N * N * sizeof(int), cudaMemcpyHostToDevice);\n",
        "\n",
        "    // Запуск ядра CUDA\n",
        "    dim3 blocks(grid_size, grid_size);\n",
        "    dim3 threads(block_size, block_size);\n",
        "    matrix_multiply<<<blocks, threads>>>(d_matrix_a, d_matrix_b, d_result, N);\n",
        "\n",
        "    // Копирование данных с устройства на хост\n",
        "    cudaMemcpy(result, d_result, N * N * sizeof(int), cudaMemcpyDeviceToHost);\n",
        "\n",
        "    // Проверка правильности вычисления на GPU\n",
        "    bool is_correct_gpu = verify_result(matrix_a, matrix_b, result, N);\n",
        "    if (is_correct_gpu) {\n",
        "        std::cout << \"Вычисления на GPU выполнены правильно.\" << std::endl;\n",
        "    } else {\n",
        "        std::cout << \"Ошибка в вычислениях на GPU.\" << std::endl;\n",
        "    }\n",
        "\n",
        "    // Умножение матриц на ЦП\n",
        "    int *result_cpu = new int[N * N];\n",
        "    clock_t cpu_start_time = clock();\n",
        "    multiplyMatrixCPU(matrix_a, matrix_b, result_cpu, N);\n",
        "    double cpu_execution_time = (double)(clock() - cpu_start_time) / CLOCKS_PER_SEC;\n",
        "\n",
        "    // Проверка правильности вычисления на CPU\n",
        "    bool is_correct_cpu = verify_result(matrix_a, matrix_b, result_cpu, N);\n",
        "    if (is_correct_cpu) {\n",
        "        std::cout << \"Вычисления на CPU выполнены правильно.\" << std::endl;\n",
        "    } else {\n",
        "        std::cout << \"Ошибка в вычислениях на CPU.\" << std::endl;\n",
        "    }\n",
        "\n",
        "    // Вывод времени выполнения на GPU и CPU\n",
        "    cudaEvent_t start, stop;\n",
        "    cudaEventCreate(&start);\n",
        "    cudaEventCreate(&stop);\n",
        "    cudaEventRecord(start);\n",
        "    cudaEventSynchronize(start);\n",
        "\n",
        "    // Запуск ядра CUDA\n",
        "    matrix_multiply<<<blocks, threads>>>(d_matrix_a, d_matrix_b, d_result, N);\n",
        "\n",
        "    // Копирование данных с устройства на хост\n",
        "    cudaMemcpy(result, d_result, N * N * sizeof(int), cudaMemcpyDeviceToHost);\n",
        "\n",
        "    cudaEventRecord(stop);\n",
        "    cudaEventSynchronize(stop);\n",
        "    float gpu_execution_time = 0;\n",
        "    cudaEventElapsedTime(&gpu_execution_time, start, stop);\n",
        "    std::cout << \"Время выполнения на GPU: \" << gpu_execution_time << \" мс\" << std::endl;\n",
        "\n",
        "    std::cout << \"Время выполнения на CPU: \" << cpu_execution_time*1000 << \" мс\" << std::endl;\n",
        "\n",
        "    // Освобождение памяти на устройстве\n",
        "    cudaFree(d_matrix_a);\n",
        "    cudaFree(d_matrix_b);\n",
        "    cudaFree(d_result);\n",
        "\n",
        "    // Освобождение памяти на хосте\n",
        "    delete[] matrix_a;\n",
        "    delete[] matrix_b;\n",
        "    delete[] result;\n",
        "    delete[] result_cpu;\n",
        "\n",
        "    return 0;\n",
        "}"
      ],
      "metadata": {
        "colab": {
          "base_uri": "https://localhost:8080/"
        },
        "id": "lAOE50oIKgCs",
        "outputId": "0501846c-6d3f-46c4-c0a6-9a59044330e3"
      },
      "execution_count": 22,
      "outputs": [
        {
          "output_type": "stream",
          "name": "stdout",
          "text": [
            "Вычисления на GPU выполнены правильно.\n",
            "Вычисления на CPU выполнены правильно.\n",
            "Время выполнения на GPU: 0.044704 мс\n",
            "Время выполнения на CPU: 0.002 мс\n",
            "\n"
          ]
        }
      ]
    }
  ]
}