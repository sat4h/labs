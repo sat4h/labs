{
  "nbformat": 4,
  "nbformat_minor": 0,
  "metadata": {
    "colab": {
      "provenance": [],
      "gpuType": "T4"
    },
    "kernelspec": {
      "name": "python3",
      "display_name": "Python 3"
    },
    "language_info": {
      "name": "python"
    },
    "accelerator": "GPU"
  },
  "cells": [
    {
      "cell_type": "code",
      "execution_count": 1,
      "metadata": {
        "colab": {
          "base_uri": "https://localhost:8080/"
        },
        "id": "xdo0Kdi87-xs",
        "outputId": "9511b81b-5c43-4ed4-c612-05feef17f60a"
      },
      "outputs": [
        {
          "output_type": "stream",
          "name": "stdout",
          "text": [
            "Collecting git+https://github.com/andreinechaev/nvcc4jupyter.git\n",
            "  Cloning https://github.com/andreinechaev/nvcc4jupyter.git to /tmp/pip-req-build-sf5zcsg0\n",
            "  Running command git clone --filter=blob:none --quiet https://github.com/andreinechaev/nvcc4jupyter.git /tmp/pip-req-build-sf5zcsg0\n",
            "  Resolved https://github.com/andreinechaev/nvcc4jupyter.git to commit 0a71d56e5dce3ff1f0dd2c47c29367629262f527\n",
            "  Preparing metadata (setup.py) ... \u001b[?25l\u001b[?25hdone\n",
            "Building wheels for collected packages: NVCCPlugin\n",
            "  Building wheel for NVCCPlugin (setup.py) ... \u001b[?25l\u001b[?25hdone\n",
            "  Created wheel for NVCCPlugin: filename=NVCCPlugin-0.0.2-py3-none-any.whl size=4295 sha256=65bec635c96c5c6524d61f81c33e23c2b97f9d8994fb301db83ac036340b484a\n",
            "  Stored in directory: /tmp/pip-ephem-wheel-cache-ah7ojrqk/wheels/a8/b9/18/23f8ef71ceb0f63297dd1903aedd067e6243a68ea756d6feea\n",
            "Successfully built NVCCPlugin\n",
            "Installing collected packages: NVCCPlugin\n",
            "Successfully installed NVCCPlugin-0.0.2\n"
          ]
        }
      ],
      "source": [
        "!pip install git+https://github.com/andreinechaev/nvcc4jupyter.git"
      ]
    },
    {
      "cell_type": "code",
      "source": [
        "%load_ext nvcc_plugin"
      ],
      "metadata": {
        "colab": {
          "base_uri": "https://localhost:8080/"
        },
        "id": "hnVnfA7o-OlX",
        "outputId": "fada64ac-588a-4d79-8f22-6d4e976856f4"
      },
      "execution_count": 2,
      "outputs": [
        {
          "output_type": "stream",
          "name": "stdout",
          "text": [
            "created output directory at /content/src\n",
            "Out bin /content/result.out\n"
          ]
        }
      ]
    },
    {
      "cell_type": "code",
      "source": [
        "%%cu\n",
        "\n",
        "#include <iostream>\n",
        "#include <ctime>\n",
        "#include <cstdlib>\n",
        "#include <cuda.h>\n",
        "\n",
        "// Функция для сложения вектора на CPU\n",
        "int sumVectorCPU(int* vector, int size) {\n",
        "    int sum = 0;\n",
        "    for (int i = 0; i < size; ++i) {\n",
        "        sum += vector[i];\n",
        "    }\n",
        "    return sum;\n",
        "}\n",
        "\n",
        "// Ядро для распараллеливания сложения на GPU\n",
        "__global__ void sumVectorGPU(int* vector, int* result, int size) {\n",
        "    int tid = threadIdx.x + blockIdx.x * blockDim.x;\n",
        "    int stride = blockDim.x * gridDim.x;\n",
        "\n",
        "    int sum = 0;\n",
        "    for (int i = tid; i < size; i += stride) {\n",
        "        sum += vector[i];\n",
        "    }\n",
        "\n",
        "    atomicAdd(result, sum);\n",
        "}\n",
        "\n",
        "int main() {\n",
        "    const int SIZE = 1000000;\n",
        "    const int BLOCK_SIZE = 256;\n",
        "    const int GRID_SIZE = (SIZE + BLOCK_SIZE - 1) / BLOCK_SIZE;\n",
        "\n",
        "    // Выделение памяти на хосте и на устройстве\n",
        "    int* hostVector = new int[SIZE];\n",
        "    int* devVector;\n",
        "    int* devResult;\n",
        "    cudaMalloc((void**)&devVector, SIZE * sizeof(int));\n",
        "    cudaMalloc((void**)&devResult, sizeof(int));\n",
        "\n",
        "    // Заполнение вектора случайными числами на хосте\n",
        "    srand(time(nullptr));\n",
        "    for (int i = 0; i < SIZE; ++i) {\n",
        "        hostVector[i] = rand() % 10 + 1;\n",
        "    }\n",
        "\n",
        "    // Копирование вектора с хоста на устройство\n",
        "    cudaMemcpy(devVector, hostVector, SIZE * sizeof(int), cudaMemcpyHostToDevice);\n",
        "\n",
        "    // Вычисление на GPU\n",
        "    cudaEvent_t start, stop;\n",
        "    cudaEventCreate(&start);\n",
        "    cudaEventCreate(&stop);\n",
        "\n",
        "    cudaEventRecord(start);\n",
        "    sumVectorGPU<<<GRID_SIZE, BLOCK_SIZE>>>(devVector, devResult, SIZE);\n",
        "    cudaEventRecord(stop);\n",
        "\n",
        "    // Копирование результата с устройства на хост\n",
        "    int gpuResult;\n",
        "    cudaMemcpy(&gpuResult, devResult, sizeof(int), cudaMemcpyDeviceToHost);\n",
        "\n",
        "    // Вычисление на CPU\n",
        "    clock_t cpuStart = clock();\n",
        "    int cpuResult = sumVectorCPU(hostVector, SIZE);\n",
        "    clock_t cpuEnd = clock();\n",
        "\n",
        "    std::cout << \"GPU Result: \" << gpuResult << std::endl;\n",
        "    std::cout << \"CPU Result: \" << cpuResult << std::endl;\n",
        "\n",
        "    // Очистка памяти\n",
        "    cudaFree(devVector);\n",
        "    cudaFree(devResult);\n",
        "    delete[] hostVector;\n",
        "\n",
        "    // Расчет времени выполнения на GPU и на CPU\n",
        "    cudaEventSynchronize(stop);\n",
        "    float milliseconds = 0;\n",
        "    cudaEventElapsedTime(&milliseconds, start, stop);\n",
        "    std::cout << \"GPU Time: \" << milliseconds << \" ms\" << std::endl;\n",
        "\n",
        "    double cpuTime = (double)(cpuEnd - cpuStart) / CLOCKS_PER_SEC * 1000.0;\n",
        "    std::cout << \"CPU Time: \" << cpuTime << \" ms\" << std::endl;\n",
        "\n",
        "    return 0;\n",
        "}"
      ],
      "metadata": {
        "colab": {
          "base_uri": "https://localhost:8080/"
        },
        "id": "0bE-d-22-k2b",
        "outputId": "c78d4012-a08a-482a-a386-2b3abc80d3a2"
      },
      "execution_count": 22,
      "outputs": [
        {
          "output_type": "stream",
          "name": "stdout",
          "text": [
            "GPU Result: 5500241\n",
            "CPU Result: 5500241\n",
            "GPU Time: 0.065792 ms\n",
            "CPU Time: 2.866 ms\n",
            "\n"
          ]
        }
      ]
    }
  ]
}